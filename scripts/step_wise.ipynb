{
  "nbformat": 4,
  "nbformat_minor": 0,
  "metadata": {
    "colab": {
      "provenance": []
    },
    "kernelspec": {
      "name": "python3",
      "display_name": "Python 3"
    },
    "language_info": {
      "name": "python"
    }
  },
  "cells": [
    {
      "cell_type": "code",
      "execution_count": 2,
      "metadata": {
        "colab": {
          "base_uri": "https://localhost:8080/"
        },
        "id": "kNHkM6TVm26X",
        "outputId": "5cce538f-a3c3-4789-f457-ad4a36016c74"
      },
      "outputs": [
        {
          "output_type": "stream",
          "name": "stdout",
          "text": [
            "Drive already mounted at /content/drive; to attempt to forcibly remount, call drive.mount(\"/content/drive\", force_remount=True).\n"
          ]
        }
      ],
      "source": [
        "import os\n",
        "import json\n",
        "import numpy as np\n",
        "import matplotlib.pyplot as plt\n",
        "from sklearn.decomposition import PCA\n",
        "from sklearn.metrics.pairwise import cosine_similarity\n",
        "from scipy.signal import find_peaks\n",
        "from google.colab import drive\n",
        "\n",
        "# ✅ 参数设置\n",
        "drive.mount('/content/drive')\n",
        "start_index = 700\n",
        "end_index = 731\n",
        "range_tag = f\"{start_index}-{end_index}\"\n",
        "BASE_PATH = \"/content/drive/MyDrive/Cluster-proj\"\n",
        "LOGITS_PATH = f\"{BASE_PATH}/output/llm_steps/whole_logits/deepseek7b-gsm-{range_tag}-hidden.json\"\n",
        "ERROR_INDEX_PATH = f\"{BASE_PATH}/output/error_index/{range_tag}_hidden_index.json\"\n",
        "SAVE_PATH = f\"{BASE_PATH}/output/step_wise_pca\"\n",
        "os.makedirs(SAVE_PATH, exist_ok=True)\n"
      ]
    },
    {
      "cell_type": "code",
      "source": [
        "\n",
        "# ✅ 加载数据\n",
        "with open(LOGITS_PATH, \"r\") as f:\n",
        "    logits_data = json.load(f)\n",
        "with open(ERROR_INDEX_PATH, \"r\") as f:\n",
        "    error_index_data = json.load(f)\n"
      ],
      "metadata": {
        "id": "hbaeY4ylm6OF"
      },
      "execution_count": 3,
      "outputs": []
    },
    {
      "cell_type": "code",
      "source": [
        "error_index_data['q_721']"
      ],
      "metadata": {
        "colab": {
          "base_uri": "https://localhost:8080/"
        },
        "id": "yXpaeW75QALG",
        "outputId": "f3aa8977-7eac-4375-cd38-0024e417c476"
      },
      "execution_count": 38,
      "outputs": [
        {
          "output_type": "execute_result",
          "data": {
            "text/plain": [
              "{'sampling2': {'first_error_sentence': 'What is your answer?',\n",
              "  'error_reason': 'The sample answer does not address the question or perform any calculations; it simply asks a question, which is not an answer to the problem.',\n",
              "  'first_error_token_index': 0,\n",
              "  'last_error_token_index': 4}}"
            ]
          },
          "metadata": {},
          "execution_count": 38
        }
      ]
    },
    {
      "cell_type": "code",
      "source": [
        "logits_data['q_721'].keys()\n"
      ],
      "metadata": {
        "colab": {
          "base_uri": "https://localhost:8080/"
        },
        "id": "ntA6ovOUmh_L",
        "outputId": "3ba740a8-a285-47e9-d0c1-a888d2d15237"
      },
      "execution_count": 40,
      "outputs": [
        {
          "output_type": "execute_result",
          "data": {
            "text/plain": [
              "dict_keys(['question', 'true_whole_answer', 'true_final_result', 'sampling0', 'sampling1', 'sampling2'])"
            ]
          },
          "metadata": {},
          "execution_count": 40
        }
      ]
    },
    {
      "cell_type": "code",
      "source": [
        "logits_data['q_721']['true_final_result']\n"
      ],
      "metadata": {
        "colab": {
          "base_uri": "https://localhost:8080/",
          "height": 35
        },
        "id": "p7q_6QHamvjH",
        "outputId": "98d10b04-f43a-47ec-e584-1c59a81096b7"
      },
      "execution_count": 42,
      "outputs": [
        {
          "output_type": "execute_result",
          "data": {
            "text/plain": [
              "'2200'"
            ],
            "application/vnd.google.colaboratory.intrinsic+json": {
              "type": "string"
            }
          },
          "metadata": {},
          "execution_count": 42
        }
      ]
    },
    {
      "cell_type": "code",
      "source": [
        "logits_data['q_721']['sampling0'].keys()"
      ],
      "metadata": {
        "colab": {
          "base_uri": "https://localhost:8080/"
        },
        "id": "XDEW5cvKmzGN",
        "outputId": "9e4ec228-0009-441a-fc63-3b9d6a0115c2"
      },
      "execution_count": 46,
      "outputs": [
        {
          "output_type": "execute_result",
          "data": {
            "text/plain": [
              "dict_keys(['whole_answer', 'token_probs', 'final_result'])"
            ]
          },
          "metadata": {},
          "execution_count": 46
        }
      ]
    },
    {
      "cell_type": "code",
      "source": [
        "logits_data['q_721']['sampling0']['token_probs'][7].keys()"
      ],
      "metadata": {
        "colab": {
          "base_uri": "https://localhost:8080/"
        },
        "id": "QhvsY2Tdr3jb",
        "outputId": "2f4a9f78-c497-4f49-f416-55eb6d444e84"
      },
      "execution_count": 51,
      "outputs": [
        {
          "output_type": "execute_result",
          "data": {
            "text/plain": [
              "dict_keys(['token', 'chosen_prob', 'information_content', 'topk_info', 'hidden_vector'])"
            ]
          },
          "metadata": {},
          "execution_count": 51
        }
      ]
    },
    {
      "cell_type": "code",
      "source": [
        "logits_data['q_721']['sampling0']['token_probs'][7]['topk_info']"
      ],
      "metadata": {
        "colab": {
          "base_uri": "https://localhost:8080/"
        },
        "id": "ZcBkRNR-sBEU",
        "outputId": "8cb3dddc-dd06-426f-b6c5-5c146f1507bb"
      },
      "execution_count": 52,
      "outputs": [
        {
          "output_type": "execute_result",
          "data": {
            "text/plain": [
              "{'indices': [634, 245, 0],\n",
              " 'logits': [55.98214340209961, 55.84821701049805, -inf],\n",
              " 'softmax': [0.5334315896034241, 0.46656835079193115, 0.0],\n",
              " 'entropy': 0.9967726958495955,\n",
              " 'information_content': [0.9066248316506884, 1.0998396480542127, 0.0]}"
            ]
          },
          "metadata": {},
          "execution_count": 52
        }
      ]
    },
    {
      "cell_type": "code",
      "source": [
        "logits_data['q_721']['sampling0']['final_result']"
      ],
      "metadata": {
        "colab": {
          "base_uri": "https://localhost:8080/",
          "height": 35
        },
        "id": "N47biYQxmqi1",
        "outputId": "20421100-7002-4050-cb2d-0edf0f52ca18"
      },
      "execution_count": 41,
      "outputs": [
        {
          "output_type": "execute_result",
          "data": {
            "text/plain": [
              "'2200'"
            ],
            "application/vnd.google.colaboratory.intrinsic+json": {
              "type": "string"
            }
          },
          "metadata": {},
          "execution_count": 41
        }
      ]
    },
    {
      "cell_type": "code",
      "source": [
        "def compute_token_similarities(token_level):\n",
        "    vectors = [entry[\"hidden_vector\"] for entry in token_level if \"hidden_vector\" in entry]\n",
        "    return [\n",
        "        cosine_similarity([vectors[i]], [vectors[i + 1]])[0][0]\n",
        "        for i in range(len(vectors) - 1)\n",
        "    ]\n"
      ],
      "metadata": {
        "id": "7vyIL2mSqNb0"
      },
      "execution_count": 4,
      "outputs": []
    },
    {
      "cell_type": "code",
      "source": [
        "def find_steps(similarities, distance=2, prominence=0.05):\n",
        "    peaks, _ = find_peaks(-np.array(similarities), distance=distance, prominence=prominence)\n",
        "    # print([0] + peaks.tolist() + [len(similarities)])\n",
        "    return [0] + peaks.tolist() + [len(similarities)]  # 保证首尾闭合"
      ],
      "metadata": {
        "id": "slqzcizlqQzM"
      },
      "execution_count": 5,
      "outputs": []
    },
    {
      "cell_type": "code",
      "source": [
        "def map_error_index_to_steps(similarities, error_start, error_end, steps):\n",
        "    # step_bounds = find_steps(similarities)\n",
        "    error_steps = set()\n",
        "    for i in range(len(steps) - 1):\n",
        "        s, e = steps[i], steps[i+1]\n",
        "        if any(error_start <= j <= error_end for j in range(s, e)):\n",
        "            error_steps.add(i)\n",
        "    return error_steps\n"
      ],
      "metadata": {
        "id": "beYvpB7jw1C9"
      },
      "execution_count": 6,
      "outputs": []
    },
    {
      "cell_type": "code",
      "source": [
        "# 快速检查前5个 token 是否包含 entropy 字段\n",
        "for qid, sample in logits_data.items():\n",
        "    for sid in [\"sampling0\", \"sampling1\", \"sampling2\"]:\n",
        "        if sid in sample and \"token_probs\" in sample[sid]:\n",
        "            tokens = sample[sid][\"token_probs\"]\n",
        "            for i, tok in enumerate(tokens[:5]):\n",
        "                print(f\"[{qid}][{sid}][{i}] keys = {list(tok.keys())}\")\n",
        "            break\n",
        "    break\n"
      ],
      "metadata": {
        "colab": {
          "base_uri": "https://localhost:8080/"
        },
        "id": "ZLQxP_EPreRe",
        "outputId": "1948c315-5d99-48bc-cba9-c9d0da81ba64"
      },
      "execution_count": 7,
      "outputs": [
        {
          "output_type": "stream",
          "name": "stdout",
          "text": [
            "[q_700][sampling0][0] keys = ['token', 'chosen_prob', 'information_content', 'topk_info', 'hidden_vector']\n",
            "[q_700][sampling0][1] keys = ['token', 'chosen_prob', 'information_content', 'topk_info', 'hidden_vector']\n",
            "[q_700][sampling0][2] keys = ['token', 'chosen_prob', 'information_content', 'topk_info', 'hidden_vector']\n",
            "[q_700][sampling0][3] keys = ['token', 'chosen_prob', 'information_content', 'topk_info', 'hidden_vector']\n",
            "[q_700][sampling0][4] keys = ['token', 'chosen_prob', 'information_content', 'topk_info', 'hidden_vector']\n"
          ]
        }
      ]
    },
    {
      "cell_type": "code",
      "source": [
        "# ✅ 输出 JSON 路径\n",
        "json_save_path = os.path.join(SAVE_PATH, f\"stepwise_features_by_token_range_{range_tag}.json\")\n",
        "\n",
        "# ✅ 创建总字典\n",
        "qid_to_step_data = {}\n",
        "\n",
        "for qid, sample in logits_data.items():\n",
        "    for sid in [\"sampling0\", \"sampling1\", \"sampling2\"]:\n",
        "        if sid not in sample or \"token_probs\" not in sample[sid]:\n",
        "            continue\n",
        "\n",
        "        token_level = sample[sid][\"token_probs\"]\n",
        "        similarities = compute_token_similarities(token_level)\n",
        "        steps = find_steps(similarities)\n",
        "\n",
        "        step_info_list = []\n",
        "        for i in range(len(steps) - 1):\n",
        "            s_idx, e_idx = steps[i], steps[i+1]\n",
        "\n",
        "            vecs = [\n",
        "                token_level[j][\"hidden_vector\"]\n",
        "                for j in range(s_idx, e_idx)\n",
        "                if \"hidden_vector\" in token_level[j]\n",
        "            ]\n",
        "            ents = [\n",
        "                token_level[j][\"topk_info\"][\"entropy\"]\n",
        "                for j in range(s_idx, e_idx)\n",
        "                if \"topk_info\" in token_level[j] and \"entropy\" in token_level[j][\"topk_info\"]\n",
        "            ]\n",
        "\n",
        "\n",
        "            if not vecs:\n",
        "                continue  # skip if no vectors\n",
        "\n",
        "            step_key = f\"step_{i}\"\n",
        "            step_info = {\n",
        "                \"token_range\": f\"{s_idx}-{e_idx}\",\n",
        "                \"vec_mean\": np.mean(vecs, axis=0).tolist(),\n",
        "                \"entropy_mean\": float(np.mean(ents)) if ents else 0.0,\n",
        "            }\n",
        "\n",
        "            # 如果是负样本并且有 error index，可标注是否为 error step\n",
        "            if qid in error_index_data and sid in error_index_data[qid]:\n",
        "                err_info = error_index_data[qid][sid]\n",
        "                err_start = err_info.get(\"first_error_token_index\")\n",
        "                err_end = err_info.get(\"last_error_token_index\")\n",
        "                if err_start is not None and err_end is not None:\n",
        "                  try:\n",
        "                      error_steps = map_error_index_to_steps(similarities, err_start, err_end, steps)\n",
        "                      if not isinstance(error_steps, set):\n",
        "                          raise ValueError(\"error_steps 不是 set 类型\")\n",
        "                      step_info[\"is_error_step\"] = i in error_steps\n",
        "                  except Exception as e:\n",
        "                      print(f\"❌ map_error_index_to_steps 出错: qid={qid}, sid={sid}, err=({err_start}, {err_end}) -> {e}\")\n",
        "                      break  # 跳出当前 sampling 的所有 step（避免记录错误数据）\n",
        "\n",
        "            # 保存到主结构\n",
        "            if qid not in qid_to_step_data:\n",
        "                qid_to_step_data[qid] = {}\n",
        "            if sid not in qid_to_step_data[qid]:\n",
        "                qid_to_step_data[qid][sid] = {}\n",
        "            qid_to_step_data[qid][sid][step_key] = step_info\n",
        "\n",
        "# ✅ 保存为 JSON 文件\n",
        "with open(json_save_path, \"w\") as f:\n",
        "    json.dump(qid_to_step_data, f, indent=2)\n",
        "\n",
        "print(f\"✅ step-wise 信息已保存到: {json_save_path}\")\n"
      ],
      "metadata": {
        "id": "Ez83szz0m-uo",
        "colab": {
          "base_uri": "https://localhost:8080/"
        },
        "outputId": "43e80fb3-6a76-471d-ef71-d23d481b466a"
      },
      "execution_count": 53,
      "outputs": [
        {
          "output_type": "stream",
          "name": "stdout",
          "text": [
            "✅ step-wise 信息已保存到: /content/drive/MyDrive/Cluster-proj/output/step_wise_pca/stepwise_features_by_token_range_700-731.json\n"
          ]
        }
      ]
    },
    {
      "cell_type": "code",
      "source": [
        "\n",
        "# ✅ 所有可能配对的 question-sampling 对列表\n",
        "paired_qid_sids = []\n",
        "\n",
        "for qid, sid_dict in error_index_data.items():\n",
        "    all_sids = {\"sampling0\", \"sampling1\", \"sampling2\"}\n",
        "    error_sids = set(sid_dict.keys())\n",
        "    correct_sids = all_sids - error_sids\n",
        "\n",
        "    # 至少有一对正负组合\n",
        "    if error_sids and correct_sids:\n",
        "        for err_sid in error_sids:\n",
        "            for cor_sid in correct_sids:\n",
        "                paired_qid_sids.append((qid, err_sid, cor_sid))  # (qid, neg_sid, pos_sid)\n",
        "\n",
        "# ✅ 打印所有有效的 (qid, neg_sid, pos_sid) 配对\n",
        "print(f\"✅ 共找到 {len(paired_qid_sids)} 个正负样本配对:\")\n",
        "for item in paired_qid_sids:\n",
        "    print(item)\n"
      ],
      "metadata": {
        "colab": {
          "base_uri": "https://localhost:8080/"
        },
        "id": "64ESFzaYGBvf",
        "outputId": "1907f21d-c813-46ac-ab85-937e4267b1b1"
      },
      "execution_count": 10,
      "outputs": [
        {
          "output_type": "stream",
          "name": "stdout",
          "text": [
            "✅ 共找到 38 个正负样本配对:\n",
            "('q_700', 'sampling2', 'sampling1')\n",
            "('q_700', 'sampling0', 'sampling1')\n",
            "('q_701', 'sampling1', 'sampling2')\n",
            "('q_701', 'sampling1', 'sampling0')\n",
            "('q_703', 'sampling1', 'sampling2')\n",
            "('q_703', 'sampling1', 'sampling0')\n",
            "('q_705', 'sampling2', 'sampling0')\n",
            "('q_705', 'sampling1', 'sampling0')\n",
            "('q_707', 'sampling2', 'sampling1')\n",
            "('q_707', 'sampling0', 'sampling1')\n",
            "('q_709', 'sampling2', 'sampling1')\n",
            "('q_709', 'sampling0', 'sampling1')\n",
            "('q_710', 'sampling1', 'sampling2')\n",
            "('q_710', 'sampling1', 'sampling0')\n",
            "('q_711', 'sampling0', 'sampling2')\n",
            "('q_711', 'sampling0', 'sampling1')\n",
            "('q_712', 'sampling1', 'sampling2')\n",
            "('q_712', 'sampling0', 'sampling2')\n",
            "('q_714', 'sampling1', 'sampling2')\n",
            "('q_714', 'sampling0', 'sampling2')\n",
            "('q_715', 'sampling1', 'sampling2')\n",
            "('q_715', 'sampling1', 'sampling0')\n",
            "('q_717', 'sampling1', 'sampling2')\n",
            "('q_717', 'sampling1', 'sampling0')\n",
            "('q_718', 'sampling2', 'sampling1')\n",
            "('q_718', 'sampling2', 'sampling0')\n",
            "('q_720', 'sampling1', 'sampling2')\n",
            "('q_720', 'sampling1', 'sampling0')\n",
            "('q_721', 'sampling2', 'sampling1')\n",
            "('q_721', 'sampling2', 'sampling0')\n",
            "('q_723', 'sampling2', 'sampling1')\n",
            "('q_723', 'sampling2', 'sampling0')\n",
            "('q_724', 'sampling2', 'sampling1')\n",
            "('q_724', 'sampling0', 'sampling1')\n",
            "('q_727', 'sampling1', 'sampling2')\n",
            "('q_727', 'sampling0', 'sampling2')\n",
            "('q_730', 'sampling2', 'sampling1')\n",
            "('q_730', 'sampling2', 'sampling0')\n"
          ]
        }
      ]
    },
    {
      "cell_type": "code",
      "source": [
        "import json\n",
        "import os\n",
        "import numpy as np\n",
        "import matplotlib.pyplot as plt\n",
        "from sklearn.decomposition import PCA\n",
        "\n",
        "# ✅ 加载 stepwise 特征文件\n",
        "json_path = os.path.join(SAVE_PATH, f\"stepwise_features_by_token_range_{range_tag}.json\")\n",
        "with open(json_path, \"r\") as f:\n",
        "    step_data = json.load(f)\n",
        "\n"
      ],
      "metadata": {
        "id": "-SDpBo4YH31r"
      },
      "execution_count": 8,
      "outputs": []
    },
    {
      "cell_type": "code",
      "source": [
        "step_data['q_703']['sampling0'].keys()"
      ],
      "metadata": {
        "colab": {
          "base_uri": "https://localhost:8080/"
        },
        "id": "edgw64PpRQme",
        "outputId": "4000116f-32de-4303-8d1f-e7263fffb436"
      },
      "execution_count": 34,
      "outputs": [
        {
          "output_type": "execute_result",
          "data": {
            "text/plain": [
              "dict_keys(['step_0', 'step_1', 'step_2', 'step_3', 'step_4', 'step_5', 'step_6', 'step_7', 'step_8', 'step_9', 'step_10', 'step_11', 'step_12', 'step_13', 'step_14', 'step_15', 'step_16', 'step_17', 'step_18', 'step_19', 'step_20', 'step_21', 'step_22', 'step_23', 'step_24', 'step_25', 'step_26', 'step_27', 'step_28', 'step_29', 'step_30', 'step_31', 'step_32', 'step_33', 'step_34', 'step_35', 'step_36', 'step_37', 'step_38', 'step_39', 'step_40', 'step_41', 'step_42', 'step_43', 'step_44', 'step_45', 'step_46', 'step_47', 'step_48', 'step_49', 'step_50', 'step_51', 'step_52', 'step_53', 'step_54', 'step_55', 'step_56', 'step_57', 'step_58', 'step_59', 'step_60', 'step_61', 'step_62', 'step_63', 'step_64', 'step_65'])"
            ]
          },
          "metadata": {},
          "execution_count": 34
        }
      ]
    },
    {
      "cell_type": "code",
      "source": [
        "step_data['q_703'].keys()"
      ],
      "metadata": {
        "colab": {
          "base_uri": "https://localhost:8080/"
        },
        "id": "Yikb-DBbRfYF",
        "outputId": "f2c29aff-5d7b-4dc2-b809-3ece3f4cb949"
      },
      "execution_count": 35,
      "outputs": [
        {
          "output_type": "execute_result",
          "data": {
            "text/plain": [
              "dict_keys(['sampling0', 'sampling1', 'sampling2'])"
            ]
          },
          "metadata": {},
          "execution_count": 35
        }
      ]
    },
    {
      "cell_type": "code",
      "source": [
        "step_data['q_703']['sampling1'].keys()"
      ],
      "metadata": {
        "colab": {
          "base_uri": "https://localhost:8080/"
        },
        "id": "8bBItWWpRiMM",
        "outputId": "af0cd37f-5569-4cb2-9f98-181ab44d1cf8"
      },
      "execution_count": 36,
      "outputs": [
        {
          "output_type": "execute_result",
          "data": {
            "text/plain": [
              "dict_keys(['step_0', 'step_1', 'step_2', 'step_3', 'step_4', 'step_5', 'step_6', 'step_7', 'step_8', 'step_9', 'step_10', 'step_11', 'step_12', 'step_13', 'step_14', 'step_15', 'step_16', 'step_17', 'step_18', 'step_19', 'step_20', 'step_21', 'step_22', 'step_23', 'step_24', 'step_25', 'step_26', 'step_27', 'step_28', 'step_29', 'step_30', 'step_31', 'step_32', 'step_33', 'step_34', 'step_35', 'step_36', 'step_37', 'step_38', 'step_39', 'step_40', 'step_41', 'step_42', 'step_43', 'step_44', 'step_45', 'step_46', 'step_47', 'step_48', 'step_49', 'step_50', 'step_51', 'step_52', 'step_53', 'step_54', 'step_55', 'step_56', 'step_57', 'step_58', 'step_59', 'step_60', 'step_61', 'step_62', 'step_63', 'step_64', 'step_65', 'step_66', 'step_67', 'step_68', 'step_69', 'step_70', 'step_71', 'step_72', 'step_73', 'step_74', 'step_75', 'step_76', 'step_77', 'step_78'])"
            ]
          },
          "metadata": {},
          "execution_count": 36
        }
      ]
    },
    {
      "cell_type": "code",
      "source": [
        "step_data['q_703']['sampling1']"
      ],
      "metadata": {
        "id": "jqeHQ7eMgNPK"
      },
      "execution_count": null,
      "outputs": []
    },
    {
      "cell_type": "code",
      "source": [
        "for qid, neg_sid, pos_sid in paired_qid_sids:\n",
        "    if qid not in step_data:\n",
        "        print(f\"⚠️ qid {qid} 不在 step_data 中，跳过\")\n",
        "        continue\n",
        "    if neg_sid not in step_data[qid] or pos_sid not in step_data[qid]:\n",
        "        print(f\"⚠️ qid {qid} 缺失 sid 数据，跳过\")\n",
        "        continue\n",
        "\n",
        "    # ✅ 检查 error_index 是否有效\n",
        "    err_info = error_index_data.get(qid, {}).get(neg_sid, {})\n",
        "    if err_info.get(\"first_error_token_index\", 0) == -1 or err_info.get(\"last_error_token_index\", 0) == -1:\n",
        "        print(f\"⚠️ qid {qid} 的 {neg_sid} error index 为 -1，跳过\")\n",
        "        continue\n",
        "\n",
        "    neg_steps = step_data[qid][neg_sid]\n",
        "    pos_steps = step_data[qid][pos_sid]\n",
        "\n",
        "    # ✅ 提取 step_i 编号进行对齐（适配 step_0 格式）\n",
        "    neg_index_to_key = {k.replace(\"step_\", \"\"): k for k in neg_steps}\n",
        "    pos_index_to_key = {k.replace(\"step_\", \"\"): k for k in pos_steps}\n",
        "    common_step_indices = sorted(set(neg_index_to_key.keys()) & set(pos_index_to_key.keys()))\n",
        "\n",
        "    if len(common_step_indices) < 1:\n",
        "        print(f\"⚠️ qid {qid} 没有对齐的 step_i，跳过\")\n",
        "        continue\n",
        "\n",
        "    # === 收集向量和错误标记 ===\n",
        "    vecs_neg, vecs_pos, error_info = [], [], []\n",
        "    for idx in common_step_indices:\n",
        "        step_key_neg = neg_index_to_key[idx]\n",
        "        step_key_pos = pos_index_to_key[idx]\n",
        "\n",
        "        try:\n",
        "            vec_neg = np.array(neg_steps[step_key_neg][\"vec_mean\"])\n",
        "            vec_pos = np.array(pos_steps[step_key_pos][\"vec_mean\"])\n",
        "            is_error = neg_steps[step_key_neg].get(\"is_error_step\", False)\n",
        "        except KeyError:\n",
        "            continue\n",
        "\n",
        "        vecs_neg.append(vec_neg)\n",
        "        vecs_pos.append(vec_pos)\n",
        "        error_info.append((idx, is_error))\n",
        "\n",
        "    # === PCA 降维 ===\n",
        "    X = np.concatenate([vecs_neg, vecs_pos], axis=0)\n",
        "    pca = PCA(n_components=2)\n",
        "    reduced = pca.fit_transform(X)\n",
        "    explained = pca.explained_variance_ratio_\n",
        "\n",
        "    # === 可视化 ===\n",
        "    plt.figure(figsize=(10, 8))\n",
        "    plt.scatter([], [], color='red', label=\"Negative Error\")\n",
        "    plt.scatter([], [], color='green', label=\"Negative Correct\")\n",
        "    plt.scatter([], [], color='blue', label=\"Positive\")\n",
        "\n",
        "    for i, (step_idx, is_error) in enumerate(error_info):\n",
        "        label = f\"step_{step_idx}\"\n",
        "        idx_neg = i\n",
        "        idx_pos = i + len(error_info)\n",
        "\n",
        "        # 正样本\n",
        "        plt.scatter(reduced[idx_pos, 0], reduced[idx_pos, 1], color='blue', alpha=0.7)\n",
        "        plt.text(reduced[idx_pos, 0] + 0.2, reduced[idx_pos, 1], label, fontsize=8, color='blue')\n",
        "\n",
        "        # 负样本\n",
        "        color = 'red' if is_error else 'green'\n",
        "        plt.scatter(reduced[idx_neg, 0], reduced[idx_neg, 1], color=color, alpha=0.7)\n",
        "        plt.text(reduced[idx_neg, 0] + 0.2, reduced[idx_neg, 1], label, fontsize=8, color=color)\n",
        "\n",
        "        # 虚线连接\n",
        "        plt.plot(\n",
        "            [reduced[idx_neg, 0], reduced[idx_pos, 0]],\n",
        "            [reduced[idx_neg, 1], reduced[idx_pos, 1]],\n",
        "            linestyle=\"--\", color=\"gray\", linewidth=0.5\n",
        "        )\n",
        "\n",
        "    # ✅ 图标题标注哪个是错误的 sampling\n",
        "    title = (\n",
        "        f\"Step-wise PCA Comparison\\n\"\n",
        "        f\"QID: {qid} | ❌ Error: {neg_sid} | ✅ Correct: {pos_sid}\\n\"\n",
        "        f\"Explained: {explained[0]:.2f}, {explained[1]:.2f}\"\n",
        "    )\n",
        "    plt.title(title)\n",
        "    plt.xlabel(\"PC1\")\n",
        "    plt.ylabel(\"PC2\")\n",
        "    plt.legend()\n",
        "    plt.grid(True)\n",
        "    plt.tight_layout()\n",
        "\n",
        "    # === 保存图像 ===\n",
        "    filename = f\"pca_steps_{qid}_{neg_sid}_vs_{pos_sid}.png\"\n",
        "    img_dir = os.path.join(SAVE_PATH, \"img2\")\n",
        "    os.makedirs(img_dir, exist_ok=True)\n",
        "    save_fp = os.path.join(img_dir, filename)\n",
        "    plt.savefig(save_fp)\n",
        "    plt.close()\n",
        "    print(f\"✅ 图保存完成: {save_fp}\")\n"
      ],
      "metadata": {
        "colab": {
          "base_uri": "https://localhost:8080/"
        },
        "id": "-oOws82VGzsE",
        "outputId": "8f8adfed-0d1c-4fb5-f143-99e5d15cae89"
      },
      "execution_count": 37,
      "outputs": [
        {
          "output_type": "stream",
          "name": "stderr",
          "text": [
            "<ipython-input-37-4005476074>:88: UserWarning: Glyph 10060 (\\N{CROSS MARK}) missing from font(s) DejaVu Sans.\n",
            "  plt.tight_layout()\n",
            "<ipython-input-37-4005476074>:88: UserWarning: Glyph 9989 (\\N{WHITE HEAVY CHECK MARK}) missing from font(s) DejaVu Sans.\n",
            "  plt.tight_layout()\n",
            "<ipython-input-37-4005476074>:95: UserWarning: Glyph 10060 (\\N{CROSS MARK}) missing from font(s) DejaVu Sans.\n",
            "  plt.savefig(save_fp)\n",
            "<ipython-input-37-4005476074>:95: UserWarning: Glyph 9989 (\\N{WHITE HEAVY CHECK MARK}) missing from font(s) DejaVu Sans.\n",
            "  plt.savefig(save_fp)\n"
          ]
        },
        {
          "output_type": "stream",
          "name": "stdout",
          "text": [
            "✅ 图保存完成: /content/drive/MyDrive/Cluster-proj/output/step_wise_pca/img2/pca_steps_q_700_sampling0_vs_sampling1.png\n"
          ]
        },
        {
          "output_type": "stream",
          "name": "stderr",
          "text": [
            "<ipython-input-37-4005476074>:88: UserWarning: Glyph 10060 (\\N{CROSS MARK}) missing from font(s) DejaVu Sans.\n",
            "  plt.tight_layout()\n",
            "<ipython-input-37-4005476074>:88: UserWarning: Glyph 9989 (\\N{WHITE HEAVY CHECK MARK}) missing from font(s) DejaVu Sans.\n",
            "  plt.tight_layout()\n",
            "<ipython-input-37-4005476074>:95: UserWarning: Glyph 10060 (\\N{CROSS MARK}) missing from font(s) DejaVu Sans.\n",
            "  plt.savefig(save_fp)\n",
            "<ipython-input-37-4005476074>:95: UserWarning: Glyph 9989 (\\N{WHITE HEAVY CHECK MARK}) missing from font(s) DejaVu Sans.\n",
            "  plt.savefig(save_fp)\n"
          ]
        },
        {
          "output_type": "stream",
          "name": "stdout",
          "text": [
            "✅ 图保存完成: /content/drive/MyDrive/Cluster-proj/output/step_wise_pca/img2/pca_steps_q_700_sampling2_vs_sampling1.png\n"
          ]
        },
        {
          "output_type": "stream",
          "name": "stderr",
          "text": [
            "<ipython-input-37-4005476074>:88: UserWarning: Glyph 10060 (\\N{CROSS MARK}) missing from font(s) DejaVu Sans.\n",
            "  plt.tight_layout()\n",
            "<ipython-input-37-4005476074>:88: UserWarning: Glyph 9989 (\\N{WHITE HEAVY CHECK MARK}) missing from font(s) DejaVu Sans.\n",
            "  plt.tight_layout()\n",
            "<ipython-input-37-4005476074>:95: UserWarning: Glyph 10060 (\\N{CROSS MARK}) missing from font(s) DejaVu Sans.\n",
            "  plt.savefig(save_fp)\n",
            "<ipython-input-37-4005476074>:95: UserWarning: Glyph 9989 (\\N{WHITE HEAVY CHECK MARK}) missing from font(s) DejaVu Sans.\n",
            "  plt.savefig(save_fp)\n"
          ]
        },
        {
          "output_type": "stream",
          "name": "stdout",
          "text": [
            "✅ 图保存完成: /content/drive/MyDrive/Cluster-proj/output/step_wise_pca/img2/pca_steps_q_701_sampling1_vs_sampling0.png\n"
          ]
        },
        {
          "output_type": "stream",
          "name": "stderr",
          "text": [
            "<ipython-input-37-4005476074>:88: UserWarning: Glyph 10060 (\\N{CROSS MARK}) missing from font(s) DejaVu Sans.\n",
            "  plt.tight_layout()\n",
            "<ipython-input-37-4005476074>:88: UserWarning: Glyph 9989 (\\N{WHITE HEAVY CHECK MARK}) missing from font(s) DejaVu Sans.\n",
            "  plt.tight_layout()\n",
            "<ipython-input-37-4005476074>:95: UserWarning: Glyph 10060 (\\N{CROSS MARK}) missing from font(s) DejaVu Sans.\n",
            "  plt.savefig(save_fp)\n",
            "<ipython-input-37-4005476074>:95: UserWarning: Glyph 9989 (\\N{WHITE HEAVY CHECK MARK}) missing from font(s) DejaVu Sans.\n",
            "  plt.savefig(save_fp)\n"
          ]
        },
        {
          "output_type": "stream",
          "name": "stdout",
          "text": [
            "✅ 图保存完成: /content/drive/MyDrive/Cluster-proj/output/step_wise_pca/img2/pca_steps_q_701_sampling1_vs_sampling2.png\n"
          ]
        },
        {
          "output_type": "stream",
          "name": "stderr",
          "text": [
            "<ipython-input-37-4005476074>:88: UserWarning: Glyph 10060 (\\N{CROSS MARK}) missing from font(s) DejaVu Sans.\n",
            "  plt.tight_layout()\n",
            "<ipython-input-37-4005476074>:88: UserWarning: Glyph 9989 (\\N{WHITE HEAVY CHECK MARK}) missing from font(s) DejaVu Sans.\n",
            "  plt.tight_layout()\n",
            "<ipython-input-37-4005476074>:95: UserWarning: Glyph 10060 (\\N{CROSS MARK}) missing from font(s) DejaVu Sans.\n",
            "  plt.savefig(save_fp)\n",
            "<ipython-input-37-4005476074>:95: UserWarning: Glyph 9989 (\\N{WHITE HEAVY CHECK MARK}) missing from font(s) DejaVu Sans.\n",
            "  plt.savefig(save_fp)\n"
          ]
        },
        {
          "output_type": "stream",
          "name": "stdout",
          "text": [
            "✅ 图保存完成: /content/drive/MyDrive/Cluster-proj/output/step_wise_pca/img2/pca_steps_q_703_sampling1_vs_sampling0.png\n"
          ]
        },
        {
          "output_type": "stream",
          "name": "stderr",
          "text": [
            "<ipython-input-37-4005476074>:88: UserWarning: Glyph 10060 (\\N{CROSS MARK}) missing from font(s) DejaVu Sans.\n",
            "  plt.tight_layout()\n",
            "<ipython-input-37-4005476074>:88: UserWarning: Glyph 9989 (\\N{WHITE HEAVY CHECK MARK}) missing from font(s) DejaVu Sans.\n",
            "  plt.tight_layout()\n",
            "<ipython-input-37-4005476074>:95: UserWarning: Glyph 10060 (\\N{CROSS MARK}) missing from font(s) DejaVu Sans.\n",
            "  plt.savefig(save_fp)\n",
            "<ipython-input-37-4005476074>:95: UserWarning: Glyph 9989 (\\N{WHITE HEAVY CHECK MARK}) missing from font(s) DejaVu Sans.\n",
            "  plt.savefig(save_fp)\n"
          ]
        },
        {
          "output_type": "stream",
          "name": "stdout",
          "text": [
            "✅ 图保存完成: /content/drive/MyDrive/Cluster-proj/output/step_wise_pca/img2/pca_steps_q_703_sampling1_vs_sampling2.png\n"
          ]
        },
        {
          "output_type": "stream",
          "name": "stderr",
          "text": [
            "<ipython-input-37-4005476074>:88: UserWarning: Glyph 10060 (\\N{CROSS MARK}) missing from font(s) DejaVu Sans.\n",
            "  plt.tight_layout()\n",
            "<ipython-input-37-4005476074>:88: UserWarning: Glyph 9989 (\\N{WHITE HEAVY CHECK MARK}) missing from font(s) DejaVu Sans.\n",
            "  plt.tight_layout()\n",
            "<ipython-input-37-4005476074>:95: UserWarning: Glyph 10060 (\\N{CROSS MARK}) missing from font(s) DejaVu Sans.\n",
            "  plt.savefig(save_fp)\n",
            "<ipython-input-37-4005476074>:95: UserWarning: Glyph 9989 (\\N{WHITE HEAVY CHECK MARK}) missing from font(s) DejaVu Sans.\n",
            "  plt.savefig(save_fp)\n"
          ]
        },
        {
          "output_type": "stream",
          "name": "stdout",
          "text": [
            "✅ 图保存完成: /content/drive/MyDrive/Cluster-proj/output/step_wise_pca/img2/pca_steps_q_705_sampling2_vs_sampling0.png\n"
          ]
        },
        {
          "output_type": "stream",
          "name": "stderr",
          "text": [
            "<ipython-input-37-4005476074>:88: UserWarning: Glyph 10060 (\\N{CROSS MARK}) missing from font(s) DejaVu Sans.\n",
            "  plt.tight_layout()\n",
            "<ipython-input-37-4005476074>:88: UserWarning: Glyph 9989 (\\N{WHITE HEAVY CHECK MARK}) missing from font(s) DejaVu Sans.\n",
            "  plt.tight_layout()\n",
            "<ipython-input-37-4005476074>:95: UserWarning: Glyph 10060 (\\N{CROSS MARK}) missing from font(s) DejaVu Sans.\n",
            "  plt.savefig(save_fp)\n",
            "<ipython-input-37-4005476074>:95: UserWarning: Glyph 9989 (\\N{WHITE HEAVY CHECK MARK}) missing from font(s) DejaVu Sans.\n",
            "  plt.savefig(save_fp)\n"
          ]
        },
        {
          "output_type": "stream",
          "name": "stdout",
          "text": [
            "✅ 图保存完成: /content/drive/MyDrive/Cluster-proj/output/step_wise_pca/img2/pca_steps_q_705_sampling1_vs_sampling0.png\n"
          ]
        },
        {
          "output_type": "stream",
          "name": "stderr",
          "text": [
            "<ipython-input-37-4005476074>:88: UserWarning: Glyph 10060 (\\N{CROSS MARK}) missing from font(s) DejaVu Sans.\n",
            "  plt.tight_layout()\n",
            "<ipython-input-37-4005476074>:88: UserWarning: Glyph 9989 (\\N{WHITE HEAVY CHECK MARK}) missing from font(s) DejaVu Sans.\n",
            "  plt.tight_layout()\n",
            "<ipython-input-37-4005476074>:95: UserWarning: Glyph 10060 (\\N{CROSS MARK}) missing from font(s) DejaVu Sans.\n",
            "  plt.savefig(save_fp)\n",
            "<ipython-input-37-4005476074>:95: UserWarning: Glyph 9989 (\\N{WHITE HEAVY CHECK MARK}) missing from font(s) DejaVu Sans.\n",
            "  plt.savefig(save_fp)\n"
          ]
        },
        {
          "output_type": "stream",
          "name": "stdout",
          "text": [
            "✅ 图保存完成: /content/drive/MyDrive/Cluster-proj/output/step_wise_pca/img2/pca_steps_q_707_sampling0_vs_sampling1.png\n"
          ]
        },
        {
          "output_type": "stream",
          "name": "stderr",
          "text": [
            "<ipython-input-37-4005476074>:88: UserWarning: Glyph 10060 (\\N{CROSS MARK}) missing from font(s) DejaVu Sans.\n",
            "  plt.tight_layout()\n",
            "<ipython-input-37-4005476074>:88: UserWarning: Glyph 9989 (\\N{WHITE HEAVY CHECK MARK}) missing from font(s) DejaVu Sans.\n",
            "  plt.tight_layout()\n",
            "<ipython-input-37-4005476074>:95: UserWarning: Glyph 10060 (\\N{CROSS MARK}) missing from font(s) DejaVu Sans.\n",
            "  plt.savefig(save_fp)\n",
            "<ipython-input-37-4005476074>:95: UserWarning: Glyph 9989 (\\N{WHITE HEAVY CHECK MARK}) missing from font(s) DejaVu Sans.\n",
            "  plt.savefig(save_fp)\n"
          ]
        },
        {
          "output_type": "stream",
          "name": "stdout",
          "text": [
            "✅ 图保存完成: /content/drive/MyDrive/Cluster-proj/output/step_wise_pca/img2/pca_steps_q_707_sampling2_vs_sampling1.png\n"
          ]
        },
        {
          "output_type": "stream",
          "name": "stderr",
          "text": [
            "<ipython-input-37-4005476074>:88: UserWarning: Glyph 10060 (\\N{CROSS MARK}) missing from font(s) DejaVu Sans.\n",
            "  plt.tight_layout()\n",
            "<ipython-input-37-4005476074>:88: UserWarning: Glyph 9989 (\\N{WHITE HEAVY CHECK MARK}) missing from font(s) DejaVu Sans.\n",
            "  plt.tight_layout()\n",
            "<ipython-input-37-4005476074>:95: UserWarning: Glyph 10060 (\\N{CROSS MARK}) missing from font(s) DejaVu Sans.\n",
            "  plt.savefig(save_fp)\n",
            "<ipython-input-37-4005476074>:95: UserWarning: Glyph 9989 (\\N{WHITE HEAVY CHECK MARK}) missing from font(s) DejaVu Sans.\n",
            "  plt.savefig(save_fp)\n"
          ]
        },
        {
          "output_type": "stream",
          "name": "stdout",
          "text": [
            "✅ 图保存完成: /content/drive/MyDrive/Cluster-proj/output/step_wise_pca/img2/pca_steps_q_709_sampling0_vs_sampling1.png\n"
          ]
        },
        {
          "output_type": "stream",
          "name": "stderr",
          "text": [
            "<ipython-input-37-4005476074>:88: UserWarning: Glyph 10060 (\\N{CROSS MARK}) missing from font(s) DejaVu Sans.\n",
            "  plt.tight_layout()\n",
            "<ipython-input-37-4005476074>:88: UserWarning: Glyph 9989 (\\N{WHITE HEAVY CHECK MARK}) missing from font(s) DejaVu Sans.\n",
            "  plt.tight_layout()\n",
            "<ipython-input-37-4005476074>:95: UserWarning: Glyph 10060 (\\N{CROSS MARK}) missing from font(s) DejaVu Sans.\n",
            "  plt.savefig(save_fp)\n",
            "<ipython-input-37-4005476074>:95: UserWarning: Glyph 9989 (\\N{WHITE HEAVY CHECK MARK}) missing from font(s) DejaVu Sans.\n",
            "  plt.savefig(save_fp)\n"
          ]
        },
        {
          "output_type": "stream",
          "name": "stdout",
          "text": [
            "✅ 图保存完成: /content/drive/MyDrive/Cluster-proj/output/step_wise_pca/img2/pca_steps_q_709_sampling2_vs_sampling1.png\n"
          ]
        },
        {
          "output_type": "stream",
          "name": "stderr",
          "text": [
            "<ipython-input-37-4005476074>:88: UserWarning: Glyph 10060 (\\N{CROSS MARK}) missing from font(s) DejaVu Sans.\n",
            "  plt.tight_layout()\n",
            "<ipython-input-37-4005476074>:88: UserWarning: Glyph 9989 (\\N{WHITE HEAVY CHECK MARK}) missing from font(s) DejaVu Sans.\n",
            "  plt.tight_layout()\n",
            "<ipython-input-37-4005476074>:95: UserWarning: Glyph 10060 (\\N{CROSS MARK}) missing from font(s) DejaVu Sans.\n",
            "  plt.savefig(save_fp)\n",
            "<ipython-input-37-4005476074>:95: UserWarning: Glyph 9989 (\\N{WHITE HEAVY CHECK MARK}) missing from font(s) DejaVu Sans.\n",
            "  plt.savefig(save_fp)\n"
          ]
        },
        {
          "output_type": "stream",
          "name": "stdout",
          "text": [
            "✅ 图保存完成: /content/drive/MyDrive/Cluster-proj/output/step_wise_pca/img2/pca_steps_q_710_sampling1_vs_sampling0.png\n"
          ]
        },
        {
          "output_type": "stream",
          "name": "stderr",
          "text": [
            "<ipython-input-37-4005476074>:88: UserWarning: Glyph 10060 (\\N{CROSS MARK}) missing from font(s) DejaVu Sans.\n",
            "  plt.tight_layout()\n",
            "<ipython-input-37-4005476074>:88: UserWarning: Glyph 9989 (\\N{WHITE HEAVY CHECK MARK}) missing from font(s) DejaVu Sans.\n",
            "  plt.tight_layout()\n",
            "<ipython-input-37-4005476074>:95: UserWarning: Glyph 10060 (\\N{CROSS MARK}) missing from font(s) DejaVu Sans.\n",
            "  plt.savefig(save_fp)\n",
            "<ipython-input-37-4005476074>:95: UserWarning: Glyph 9989 (\\N{WHITE HEAVY CHECK MARK}) missing from font(s) DejaVu Sans.\n",
            "  plt.savefig(save_fp)\n"
          ]
        },
        {
          "output_type": "stream",
          "name": "stdout",
          "text": [
            "✅ 图保存完成: /content/drive/MyDrive/Cluster-proj/output/step_wise_pca/img2/pca_steps_q_710_sampling1_vs_sampling2.png\n"
          ]
        },
        {
          "output_type": "stream",
          "name": "stderr",
          "text": [
            "<ipython-input-37-4005476074>:88: UserWarning: Glyph 10060 (\\N{CROSS MARK}) missing from font(s) DejaVu Sans.\n",
            "  plt.tight_layout()\n",
            "<ipython-input-37-4005476074>:88: UserWarning: Glyph 9989 (\\N{WHITE HEAVY CHECK MARK}) missing from font(s) DejaVu Sans.\n",
            "  plt.tight_layout()\n",
            "<ipython-input-37-4005476074>:95: UserWarning: Glyph 10060 (\\N{CROSS MARK}) missing from font(s) DejaVu Sans.\n",
            "  plt.savefig(save_fp)\n",
            "<ipython-input-37-4005476074>:95: UserWarning: Glyph 9989 (\\N{WHITE HEAVY CHECK MARK}) missing from font(s) DejaVu Sans.\n",
            "  plt.savefig(save_fp)\n"
          ]
        },
        {
          "output_type": "stream",
          "name": "stdout",
          "text": [
            "✅ 图保存完成: /content/drive/MyDrive/Cluster-proj/output/step_wise_pca/img2/pca_steps_q_711_sampling0_vs_sampling2.png\n"
          ]
        },
        {
          "output_type": "stream",
          "name": "stderr",
          "text": [
            "<ipython-input-37-4005476074>:88: UserWarning: Glyph 10060 (\\N{CROSS MARK}) missing from font(s) DejaVu Sans.\n",
            "  plt.tight_layout()\n",
            "<ipython-input-37-4005476074>:88: UserWarning: Glyph 9989 (\\N{WHITE HEAVY CHECK MARK}) missing from font(s) DejaVu Sans.\n",
            "  plt.tight_layout()\n",
            "<ipython-input-37-4005476074>:95: UserWarning: Glyph 10060 (\\N{CROSS MARK}) missing from font(s) DejaVu Sans.\n",
            "  plt.savefig(save_fp)\n",
            "<ipython-input-37-4005476074>:95: UserWarning: Glyph 9989 (\\N{WHITE HEAVY CHECK MARK}) missing from font(s) DejaVu Sans.\n",
            "  plt.savefig(save_fp)\n"
          ]
        },
        {
          "output_type": "stream",
          "name": "stdout",
          "text": [
            "✅ 图保存完成: /content/drive/MyDrive/Cluster-proj/output/step_wise_pca/img2/pca_steps_q_711_sampling0_vs_sampling1.png\n"
          ]
        },
        {
          "output_type": "stream",
          "name": "stderr",
          "text": [
            "<ipython-input-37-4005476074>:88: UserWarning: Glyph 10060 (\\N{CROSS MARK}) missing from font(s) DejaVu Sans.\n",
            "  plt.tight_layout()\n",
            "<ipython-input-37-4005476074>:88: UserWarning: Glyph 9989 (\\N{WHITE HEAVY CHECK MARK}) missing from font(s) DejaVu Sans.\n",
            "  plt.tight_layout()\n",
            "<ipython-input-37-4005476074>:95: UserWarning: Glyph 10060 (\\N{CROSS MARK}) missing from font(s) DejaVu Sans.\n",
            "  plt.savefig(save_fp)\n",
            "<ipython-input-37-4005476074>:95: UserWarning: Glyph 9989 (\\N{WHITE HEAVY CHECK MARK}) missing from font(s) DejaVu Sans.\n",
            "  plt.savefig(save_fp)\n"
          ]
        },
        {
          "output_type": "stream",
          "name": "stdout",
          "text": [
            "✅ 图保存完成: /content/drive/MyDrive/Cluster-proj/output/step_wise_pca/img2/pca_steps_q_712_sampling0_vs_sampling2.png\n"
          ]
        },
        {
          "output_type": "stream",
          "name": "stderr",
          "text": [
            "<ipython-input-37-4005476074>:88: UserWarning: Glyph 10060 (\\N{CROSS MARK}) missing from font(s) DejaVu Sans.\n",
            "  plt.tight_layout()\n",
            "<ipython-input-37-4005476074>:88: UserWarning: Glyph 9989 (\\N{WHITE HEAVY CHECK MARK}) missing from font(s) DejaVu Sans.\n",
            "  plt.tight_layout()\n",
            "<ipython-input-37-4005476074>:95: UserWarning: Glyph 10060 (\\N{CROSS MARK}) missing from font(s) DejaVu Sans.\n",
            "  plt.savefig(save_fp)\n",
            "<ipython-input-37-4005476074>:95: UserWarning: Glyph 9989 (\\N{WHITE HEAVY CHECK MARK}) missing from font(s) DejaVu Sans.\n",
            "  plt.savefig(save_fp)\n"
          ]
        },
        {
          "output_type": "stream",
          "name": "stdout",
          "text": [
            "✅ 图保存完成: /content/drive/MyDrive/Cluster-proj/output/step_wise_pca/img2/pca_steps_q_712_sampling1_vs_sampling2.png\n"
          ]
        },
        {
          "output_type": "stream",
          "name": "stderr",
          "text": [
            "<ipython-input-37-4005476074>:88: UserWarning: Glyph 10060 (\\N{CROSS MARK}) missing from font(s) DejaVu Sans.\n",
            "  plt.tight_layout()\n",
            "<ipython-input-37-4005476074>:88: UserWarning: Glyph 9989 (\\N{WHITE HEAVY CHECK MARK}) missing from font(s) DejaVu Sans.\n",
            "  plt.tight_layout()\n",
            "<ipython-input-37-4005476074>:95: UserWarning: Glyph 10060 (\\N{CROSS MARK}) missing from font(s) DejaVu Sans.\n",
            "  plt.savefig(save_fp)\n",
            "<ipython-input-37-4005476074>:95: UserWarning: Glyph 9989 (\\N{WHITE HEAVY CHECK MARK}) missing from font(s) DejaVu Sans.\n",
            "  plt.savefig(save_fp)\n"
          ]
        },
        {
          "output_type": "stream",
          "name": "stdout",
          "text": [
            "✅ 图保存完成: /content/drive/MyDrive/Cluster-proj/output/step_wise_pca/img2/pca_steps_q_714_sampling0_vs_sampling2.png\n"
          ]
        },
        {
          "output_type": "stream",
          "name": "stderr",
          "text": [
            "<ipython-input-37-4005476074>:88: UserWarning: Glyph 10060 (\\N{CROSS MARK}) missing from font(s) DejaVu Sans.\n",
            "  plt.tight_layout()\n",
            "<ipython-input-37-4005476074>:88: UserWarning: Glyph 9989 (\\N{WHITE HEAVY CHECK MARK}) missing from font(s) DejaVu Sans.\n",
            "  plt.tight_layout()\n",
            "<ipython-input-37-4005476074>:95: UserWarning: Glyph 10060 (\\N{CROSS MARK}) missing from font(s) DejaVu Sans.\n",
            "  plt.savefig(save_fp)\n",
            "<ipython-input-37-4005476074>:95: UserWarning: Glyph 9989 (\\N{WHITE HEAVY CHECK MARK}) missing from font(s) DejaVu Sans.\n",
            "  plt.savefig(save_fp)\n"
          ]
        },
        {
          "output_type": "stream",
          "name": "stdout",
          "text": [
            "✅ 图保存完成: /content/drive/MyDrive/Cluster-proj/output/step_wise_pca/img2/pca_steps_q_714_sampling1_vs_sampling2.png\n"
          ]
        },
        {
          "output_type": "stream",
          "name": "stderr",
          "text": [
            "<ipython-input-37-4005476074>:88: UserWarning: Glyph 10060 (\\N{CROSS MARK}) missing from font(s) DejaVu Sans.\n",
            "  plt.tight_layout()\n",
            "<ipython-input-37-4005476074>:88: UserWarning: Glyph 9989 (\\N{WHITE HEAVY CHECK MARK}) missing from font(s) DejaVu Sans.\n",
            "  plt.tight_layout()\n",
            "<ipython-input-37-4005476074>:95: UserWarning: Glyph 10060 (\\N{CROSS MARK}) missing from font(s) DejaVu Sans.\n",
            "  plt.savefig(save_fp)\n",
            "<ipython-input-37-4005476074>:95: UserWarning: Glyph 9989 (\\N{WHITE HEAVY CHECK MARK}) missing from font(s) DejaVu Sans.\n",
            "  plt.savefig(save_fp)\n"
          ]
        },
        {
          "output_type": "stream",
          "name": "stdout",
          "text": [
            "✅ 图保存完成: /content/drive/MyDrive/Cluster-proj/output/step_wise_pca/img2/pca_steps_q_715_sampling1_vs_sampling0.png\n"
          ]
        },
        {
          "output_type": "stream",
          "name": "stderr",
          "text": [
            "<ipython-input-37-4005476074>:88: UserWarning: Glyph 10060 (\\N{CROSS MARK}) missing from font(s) DejaVu Sans.\n",
            "  plt.tight_layout()\n",
            "<ipython-input-37-4005476074>:88: UserWarning: Glyph 9989 (\\N{WHITE HEAVY CHECK MARK}) missing from font(s) DejaVu Sans.\n",
            "  plt.tight_layout()\n",
            "<ipython-input-37-4005476074>:95: UserWarning: Glyph 10060 (\\N{CROSS MARK}) missing from font(s) DejaVu Sans.\n",
            "  plt.savefig(save_fp)\n",
            "<ipython-input-37-4005476074>:95: UserWarning: Glyph 9989 (\\N{WHITE HEAVY CHECK MARK}) missing from font(s) DejaVu Sans.\n",
            "  plt.savefig(save_fp)\n"
          ]
        },
        {
          "output_type": "stream",
          "name": "stdout",
          "text": [
            "✅ 图保存完成: /content/drive/MyDrive/Cluster-proj/output/step_wise_pca/img2/pca_steps_q_715_sampling1_vs_sampling2.png\n"
          ]
        },
        {
          "output_type": "stream",
          "name": "stderr",
          "text": [
            "<ipython-input-37-4005476074>:88: UserWarning: Glyph 10060 (\\N{CROSS MARK}) missing from font(s) DejaVu Sans.\n",
            "  plt.tight_layout()\n",
            "<ipython-input-37-4005476074>:88: UserWarning: Glyph 9989 (\\N{WHITE HEAVY CHECK MARK}) missing from font(s) DejaVu Sans.\n",
            "  plt.tight_layout()\n",
            "<ipython-input-37-4005476074>:95: UserWarning: Glyph 10060 (\\N{CROSS MARK}) missing from font(s) DejaVu Sans.\n",
            "  plt.savefig(save_fp)\n",
            "<ipython-input-37-4005476074>:95: UserWarning: Glyph 9989 (\\N{WHITE HEAVY CHECK MARK}) missing from font(s) DejaVu Sans.\n",
            "  plt.savefig(save_fp)\n"
          ]
        },
        {
          "output_type": "stream",
          "name": "stdout",
          "text": [
            "✅ 图保存完成: /content/drive/MyDrive/Cluster-proj/output/step_wise_pca/img2/pca_steps_q_717_sampling1_vs_sampling0.png\n"
          ]
        },
        {
          "output_type": "stream",
          "name": "stderr",
          "text": [
            "<ipython-input-37-4005476074>:88: UserWarning: Glyph 10060 (\\N{CROSS MARK}) missing from font(s) DejaVu Sans.\n",
            "  plt.tight_layout()\n",
            "<ipython-input-37-4005476074>:88: UserWarning: Glyph 9989 (\\N{WHITE HEAVY CHECK MARK}) missing from font(s) DejaVu Sans.\n",
            "  plt.tight_layout()\n",
            "<ipython-input-37-4005476074>:95: UserWarning: Glyph 10060 (\\N{CROSS MARK}) missing from font(s) DejaVu Sans.\n",
            "  plt.savefig(save_fp)\n",
            "<ipython-input-37-4005476074>:95: UserWarning: Glyph 9989 (\\N{WHITE HEAVY CHECK MARK}) missing from font(s) DejaVu Sans.\n",
            "  plt.savefig(save_fp)\n"
          ]
        },
        {
          "output_type": "stream",
          "name": "stdout",
          "text": [
            "✅ 图保存完成: /content/drive/MyDrive/Cluster-proj/output/step_wise_pca/img2/pca_steps_q_717_sampling1_vs_sampling2.png\n"
          ]
        },
        {
          "output_type": "stream",
          "name": "stderr",
          "text": [
            "<ipython-input-37-4005476074>:88: UserWarning: Glyph 10060 (\\N{CROSS MARK}) missing from font(s) DejaVu Sans.\n",
            "  plt.tight_layout()\n",
            "<ipython-input-37-4005476074>:88: UserWarning: Glyph 9989 (\\N{WHITE HEAVY CHECK MARK}) missing from font(s) DejaVu Sans.\n",
            "  plt.tight_layout()\n",
            "<ipython-input-37-4005476074>:95: UserWarning: Glyph 10060 (\\N{CROSS MARK}) missing from font(s) DejaVu Sans.\n",
            "  plt.savefig(save_fp)\n",
            "<ipython-input-37-4005476074>:95: UserWarning: Glyph 9989 (\\N{WHITE HEAVY CHECK MARK}) missing from font(s) DejaVu Sans.\n",
            "  plt.savefig(save_fp)\n"
          ]
        },
        {
          "output_type": "stream",
          "name": "stdout",
          "text": [
            "✅ 图保存完成: /content/drive/MyDrive/Cluster-proj/output/step_wise_pca/img2/pca_steps_q_718_sampling2_vs_sampling0.png\n"
          ]
        },
        {
          "output_type": "stream",
          "name": "stderr",
          "text": [
            "<ipython-input-37-4005476074>:88: UserWarning: Glyph 10060 (\\N{CROSS MARK}) missing from font(s) DejaVu Sans.\n",
            "  plt.tight_layout()\n",
            "<ipython-input-37-4005476074>:88: UserWarning: Glyph 9989 (\\N{WHITE HEAVY CHECK MARK}) missing from font(s) DejaVu Sans.\n",
            "  plt.tight_layout()\n",
            "<ipython-input-37-4005476074>:95: UserWarning: Glyph 10060 (\\N{CROSS MARK}) missing from font(s) DejaVu Sans.\n",
            "  plt.savefig(save_fp)\n",
            "<ipython-input-37-4005476074>:95: UserWarning: Glyph 9989 (\\N{WHITE HEAVY CHECK MARK}) missing from font(s) DejaVu Sans.\n",
            "  plt.savefig(save_fp)\n"
          ]
        },
        {
          "output_type": "stream",
          "name": "stdout",
          "text": [
            "✅ 图保存完成: /content/drive/MyDrive/Cluster-proj/output/step_wise_pca/img2/pca_steps_q_718_sampling2_vs_sampling1.png\n"
          ]
        },
        {
          "output_type": "stream",
          "name": "stderr",
          "text": [
            "<ipython-input-37-4005476074>:88: UserWarning: Glyph 10060 (\\N{CROSS MARK}) missing from font(s) DejaVu Sans.\n",
            "  plt.tight_layout()\n",
            "<ipython-input-37-4005476074>:88: UserWarning: Glyph 9989 (\\N{WHITE HEAVY CHECK MARK}) missing from font(s) DejaVu Sans.\n",
            "  plt.tight_layout()\n",
            "<ipython-input-37-4005476074>:95: UserWarning: Glyph 10060 (\\N{CROSS MARK}) missing from font(s) DejaVu Sans.\n",
            "  plt.savefig(save_fp)\n",
            "<ipython-input-37-4005476074>:95: UserWarning: Glyph 9989 (\\N{WHITE HEAVY CHECK MARK}) missing from font(s) DejaVu Sans.\n",
            "  plt.savefig(save_fp)\n"
          ]
        },
        {
          "output_type": "stream",
          "name": "stdout",
          "text": [
            "✅ 图保存完成: /content/drive/MyDrive/Cluster-proj/output/step_wise_pca/img2/pca_steps_q_720_sampling1_vs_sampling0.png\n"
          ]
        },
        {
          "output_type": "stream",
          "name": "stderr",
          "text": [
            "<ipython-input-37-4005476074>:88: UserWarning: Glyph 10060 (\\N{CROSS MARK}) missing from font(s) DejaVu Sans.\n",
            "  plt.tight_layout()\n",
            "<ipython-input-37-4005476074>:88: UserWarning: Glyph 9989 (\\N{WHITE HEAVY CHECK MARK}) missing from font(s) DejaVu Sans.\n",
            "  plt.tight_layout()\n",
            "<ipython-input-37-4005476074>:95: UserWarning: Glyph 10060 (\\N{CROSS MARK}) missing from font(s) DejaVu Sans.\n",
            "  plt.savefig(save_fp)\n",
            "<ipython-input-37-4005476074>:95: UserWarning: Glyph 9989 (\\N{WHITE HEAVY CHECK MARK}) missing from font(s) DejaVu Sans.\n",
            "  plt.savefig(save_fp)\n"
          ]
        },
        {
          "output_type": "stream",
          "name": "stdout",
          "text": [
            "✅ 图保存完成: /content/drive/MyDrive/Cluster-proj/output/step_wise_pca/img2/pca_steps_q_720_sampling1_vs_sampling2.png\n"
          ]
        },
        {
          "output_type": "stream",
          "name": "stderr",
          "text": [
            "<ipython-input-37-4005476074>:88: UserWarning: Glyph 10060 (\\N{CROSS MARK}) missing from font(s) DejaVu Sans.\n",
            "  plt.tight_layout()\n",
            "<ipython-input-37-4005476074>:88: UserWarning: Glyph 9989 (\\N{WHITE HEAVY CHECK MARK}) missing from font(s) DejaVu Sans.\n",
            "  plt.tight_layout()\n",
            "<ipython-input-37-4005476074>:95: UserWarning: Glyph 10060 (\\N{CROSS MARK}) missing from font(s) DejaVu Sans.\n",
            "  plt.savefig(save_fp)\n",
            "<ipython-input-37-4005476074>:95: UserWarning: Glyph 9989 (\\N{WHITE HEAVY CHECK MARK}) missing from font(s) DejaVu Sans.\n",
            "  plt.savefig(save_fp)\n"
          ]
        },
        {
          "output_type": "stream",
          "name": "stdout",
          "text": [
            "✅ 图保存完成: /content/drive/MyDrive/Cluster-proj/output/step_wise_pca/img2/pca_steps_q_721_sampling2_vs_sampling0.png\n"
          ]
        },
        {
          "output_type": "stream",
          "name": "stderr",
          "text": [
            "<ipython-input-37-4005476074>:88: UserWarning: Glyph 10060 (\\N{CROSS MARK}) missing from font(s) DejaVu Sans.\n",
            "  plt.tight_layout()\n",
            "<ipython-input-37-4005476074>:88: UserWarning: Glyph 9989 (\\N{WHITE HEAVY CHECK MARK}) missing from font(s) DejaVu Sans.\n",
            "  plt.tight_layout()\n",
            "<ipython-input-37-4005476074>:95: UserWarning: Glyph 10060 (\\N{CROSS MARK}) missing from font(s) DejaVu Sans.\n",
            "  plt.savefig(save_fp)\n",
            "<ipython-input-37-4005476074>:95: UserWarning: Glyph 9989 (\\N{WHITE HEAVY CHECK MARK}) missing from font(s) DejaVu Sans.\n",
            "  plt.savefig(save_fp)\n"
          ]
        },
        {
          "output_type": "stream",
          "name": "stdout",
          "text": [
            "✅ 图保存完成: /content/drive/MyDrive/Cluster-proj/output/step_wise_pca/img2/pca_steps_q_721_sampling2_vs_sampling1.png\n",
            "⚠️ qid q_723 的 sampling2 error index 为 -1，跳过\n",
            "⚠️ qid q_723 的 sampling2 error index 为 -1，跳过\n"
          ]
        },
        {
          "output_type": "stream",
          "name": "stderr",
          "text": [
            "<ipython-input-37-4005476074>:88: UserWarning: Glyph 10060 (\\N{CROSS MARK}) missing from font(s) DejaVu Sans.\n",
            "  plt.tight_layout()\n",
            "<ipython-input-37-4005476074>:88: UserWarning: Glyph 9989 (\\N{WHITE HEAVY CHECK MARK}) missing from font(s) DejaVu Sans.\n",
            "  plt.tight_layout()\n",
            "<ipython-input-37-4005476074>:95: UserWarning: Glyph 10060 (\\N{CROSS MARK}) missing from font(s) DejaVu Sans.\n",
            "  plt.savefig(save_fp)\n",
            "<ipython-input-37-4005476074>:95: UserWarning: Glyph 9989 (\\N{WHITE HEAVY CHECK MARK}) missing from font(s) DejaVu Sans.\n",
            "  plt.savefig(save_fp)\n"
          ]
        },
        {
          "output_type": "stream",
          "name": "stdout",
          "text": [
            "✅ 图保存完成: /content/drive/MyDrive/Cluster-proj/output/step_wise_pca/img2/pca_steps_q_724_sampling0_vs_sampling1.png\n",
            "⚠️ qid q_724 的 sampling2 error index 为 -1，跳过\n"
          ]
        },
        {
          "output_type": "stream",
          "name": "stderr",
          "text": [
            "<ipython-input-37-4005476074>:88: UserWarning: Glyph 10060 (\\N{CROSS MARK}) missing from font(s) DejaVu Sans.\n",
            "  plt.tight_layout()\n",
            "<ipython-input-37-4005476074>:88: UserWarning: Glyph 9989 (\\N{WHITE HEAVY CHECK MARK}) missing from font(s) DejaVu Sans.\n",
            "  plt.tight_layout()\n",
            "<ipython-input-37-4005476074>:95: UserWarning: Glyph 10060 (\\N{CROSS MARK}) missing from font(s) DejaVu Sans.\n",
            "  plt.savefig(save_fp)\n",
            "<ipython-input-37-4005476074>:95: UserWarning: Glyph 9989 (\\N{WHITE HEAVY CHECK MARK}) missing from font(s) DejaVu Sans.\n",
            "  plt.savefig(save_fp)\n"
          ]
        },
        {
          "output_type": "stream",
          "name": "stdout",
          "text": [
            "✅ 图保存完成: /content/drive/MyDrive/Cluster-proj/output/step_wise_pca/img2/pca_steps_q_727_sampling0_vs_sampling2.png\n"
          ]
        },
        {
          "output_type": "stream",
          "name": "stderr",
          "text": [
            "<ipython-input-37-4005476074>:88: UserWarning: Glyph 10060 (\\N{CROSS MARK}) missing from font(s) DejaVu Sans.\n",
            "  plt.tight_layout()\n",
            "<ipython-input-37-4005476074>:88: UserWarning: Glyph 9989 (\\N{WHITE HEAVY CHECK MARK}) missing from font(s) DejaVu Sans.\n",
            "  plt.tight_layout()\n",
            "<ipython-input-37-4005476074>:95: UserWarning: Glyph 10060 (\\N{CROSS MARK}) missing from font(s) DejaVu Sans.\n",
            "  plt.savefig(save_fp)\n",
            "<ipython-input-37-4005476074>:95: UserWarning: Glyph 9989 (\\N{WHITE HEAVY CHECK MARK}) missing from font(s) DejaVu Sans.\n",
            "  plt.savefig(save_fp)\n"
          ]
        },
        {
          "output_type": "stream",
          "name": "stdout",
          "text": [
            "✅ 图保存完成: /content/drive/MyDrive/Cluster-proj/output/step_wise_pca/img2/pca_steps_q_727_sampling1_vs_sampling2.png\n"
          ]
        },
        {
          "output_type": "stream",
          "name": "stderr",
          "text": [
            "<ipython-input-37-4005476074>:88: UserWarning: Glyph 10060 (\\N{CROSS MARK}) missing from font(s) DejaVu Sans.\n",
            "  plt.tight_layout()\n",
            "<ipython-input-37-4005476074>:88: UserWarning: Glyph 9989 (\\N{WHITE HEAVY CHECK MARK}) missing from font(s) DejaVu Sans.\n",
            "  plt.tight_layout()\n",
            "<ipython-input-37-4005476074>:95: UserWarning: Glyph 10060 (\\N{CROSS MARK}) missing from font(s) DejaVu Sans.\n",
            "  plt.savefig(save_fp)\n",
            "<ipython-input-37-4005476074>:95: UserWarning: Glyph 9989 (\\N{WHITE HEAVY CHECK MARK}) missing from font(s) DejaVu Sans.\n",
            "  plt.savefig(save_fp)\n"
          ]
        },
        {
          "output_type": "stream",
          "name": "stdout",
          "text": [
            "✅ 图保存完成: /content/drive/MyDrive/Cluster-proj/output/step_wise_pca/img2/pca_steps_q_730_sampling2_vs_sampling0.png\n"
          ]
        },
        {
          "output_type": "stream",
          "name": "stderr",
          "text": [
            "<ipython-input-37-4005476074>:88: UserWarning: Glyph 10060 (\\N{CROSS MARK}) missing from font(s) DejaVu Sans.\n",
            "  plt.tight_layout()\n",
            "<ipython-input-37-4005476074>:88: UserWarning: Glyph 9989 (\\N{WHITE HEAVY CHECK MARK}) missing from font(s) DejaVu Sans.\n",
            "  plt.tight_layout()\n",
            "<ipython-input-37-4005476074>:95: UserWarning: Glyph 10060 (\\N{CROSS MARK}) missing from font(s) DejaVu Sans.\n",
            "  plt.savefig(save_fp)\n",
            "<ipython-input-37-4005476074>:95: UserWarning: Glyph 9989 (\\N{WHITE HEAVY CHECK MARK}) missing from font(s) DejaVu Sans.\n",
            "  plt.savefig(save_fp)\n"
          ]
        },
        {
          "output_type": "stream",
          "name": "stdout",
          "text": [
            "✅ 图保存完成: /content/drive/MyDrive/Cluster-proj/output/step_wise_pca/img2/pca_steps_q_730_sampling2_vs_sampling1.png\n"
          ]
        }
      ]
    },
    {
      "cell_type": "code",
      "source": [
        "import matplotlib.pyplot as plt\n",
        "import numpy as np\n",
        "import os\n",
        "\n",
        "# ✅ 保存目录\n",
        "ent_img_dir = os.path.join(SAVE_PATH, \"img_entropy3\")\n",
        "os.makedirs(ent_img_dir, exist_ok=True)\n",
        "\n",
        "# ✅ 遍历每个正负配对\n",
        "for qid, neg_sid, pos_sid in paired_qid_sids:\n",
        "    if qid not in step_data or neg_sid not in step_data[qid] or pos_sid not in step_data[qid]:\n",
        "        continue\n",
        "\n",
        "    neg_steps = step_data[qid][neg_sid]\n",
        "    pos_steps = step_data[qid][pos_sid]\n",
        "\n",
        "    # ✅ 提取 step_i 编号并按数字排序\n",
        "    neg_index_to_key = {k.replace(\"step_\", \"\"): k for k in neg_steps}\n",
        "    pos_index_to_key = {k.replace(\"step_\", \"\"): k for k in pos_steps}\n",
        "    common_step_indices = sorted(\n",
        "        set(neg_index_to_key.keys()) & set(pos_index_to_key.keys()),\n",
        "        key=lambda x: int(x)\n",
        "    )\n",
        "\n",
        "    if len(common_step_indices) < 1:\n",
        "        continue\n",
        "\n",
        "    # ✅ 提取 entropy 和错误标记\n",
        "    ent_pos, ent_neg, is_error_flags = [], [], []\n",
        "    for idx in common_step_indices:\n",
        "        k_neg = neg_index_to_key[idx]\n",
        "        k_pos = pos_index_to_key[idx]\n",
        "        try:\n",
        "            ent_pos.append(pos_steps[k_pos][\"entropy_mean\"])\n",
        "            ent_neg.append(neg_steps[k_neg][\"entropy_mean\"])\n",
        "            is_error = neg_steps[k_neg].get(\"is_error_step\", False)\n",
        "            is_error_flags.append(is_error)\n",
        "        except:\n",
        "            continue\n",
        "\n",
        "    # ✅ 横轴标签也按正确顺序构造\n",
        "    labels = [f\"step_{idx}\" for idx in common_step_indices]\n",
        "\n",
        "    if not ent_pos or not ent_neg:\n",
        "        continue\n",
        "\n",
        "    # ✅ 找出 error 起点\n",
        "    error_start_idx = None\n",
        "    for i, flag in enumerate(is_error_flags):\n",
        "        if flag:\n",
        "            error_start_idx = i\n",
        "            break\n",
        "\n",
        "    # === 画图 ===\n",
        "    x = np.arange(len(labels))\n",
        "    plt.figure(figsize=(10, 5))\n",
        "\n",
        "    # ✅ 正样本：蓝线\n",
        "    plt.plot(x, ent_pos, marker='o', color='blue', label=\"Positive\")\n",
        "\n",
        "    # ✅ 负样本分段线（绿 ➝ 红）\n",
        "    if error_start_idx is None:\n",
        "        plt.plot(x, ent_neg, marker='o', color='green', label=\"Negative (Correct)\")\n",
        "    else:\n",
        "        if error_start_idx > 0:\n",
        "            plt.plot(x[:error_start_idx], ent_neg[:error_start_idx], marker='o', color='green', label=\"Negative (Correct)\")\n",
        "        plt.plot(x[error_start_idx:], ent_neg[error_start_idx:], marker='o', color='red', label=\"Negative (Error)\")\n",
        "\n",
        "    plt.xticks(x, labels, rotation=45)\n",
        "    plt.xlabel(\"Step Index\")\n",
        "    plt.ylabel(\"Mean Entropy\")\n",
        "    plt.title(f\"Step Entropy Comparison\\nQID: {qid} | Positive: {pos_sid} vs Negative: {neg_sid}\")\n",
        "    plt.legend()\n",
        "    plt.grid(True)\n",
        "    plt.tight_layout()\n",
        "\n",
        "    # ✅ 保存图像\n",
        "    save_path = os.path.join(ent_img_dir, f\"entropy_curve_{qid}_{neg_sid}_vs_{pos_sid}.png\")\n",
        "    plt.savefig(save_path)\n",
        "    plt.close()\n",
        "    print(f\"📊 Entropy 图保存完成: {save_path}\")\n"
      ],
      "metadata": {
        "colab": {
          "base_uri": "https://localhost:8080/"
        },
        "id": "14HM2B4eqyTb",
        "outputId": "14a31223-a2d5-4415-b957-d43d8291c076"
      },
      "execution_count": 12,
      "outputs": [
        {
          "output_type": "stream",
          "name": "stdout",
          "text": [
            "📊 Entropy 图保存完成: /content/drive/MyDrive/Cluster-proj/output/step_wise_pca/img_entropy3/entropy_curve_q_700_sampling2_vs_sampling1.png\n",
            "📊 Entropy 图保存完成: /content/drive/MyDrive/Cluster-proj/output/step_wise_pca/img_entropy3/entropy_curve_q_700_sampling0_vs_sampling1.png\n",
            "📊 Entropy 图保存完成: /content/drive/MyDrive/Cluster-proj/output/step_wise_pca/img_entropy3/entropy_curve_q_701_sampling1_vs_sampling2.png\n",
            "📊 Entropy 图保存完成: /content/drive/MyDrive/Cluster-proj/output/step_wise_pca/img_entropy3/entropy_curve_q_701_sampling1_vs_sampling0.png\n",
            "📊 Entropy 图保存完成: /content/drive/MyDrive/Cluster-proj/output/step_wise_pca/img_entropy3/entropy_curve_q_703_sampling1_vs_sampling2.png\n",
            "📊 Entropy 图保存完成: /content/drive/MyDrive/Cluster-proj/output/step_wise_pca/img_entropy3/entropy_curve_q_703_sampling1_vs_sampling0.png\n",
            "📊 Entropy 图保存完成: /content/drive/MyDrive/Cluster-proj/output/step_wise_pca/img_entropy3/entropy_curve_q_705_sampling2_vs_sampling0.png\n",
            "📊 Entropy 图保存完成: /content/drive/MyDrive/Cluster-proj/output/step_wise_pca/img_entropy3/entropy_curve_q_705_sampling1_vs_sampling0.png\n",
            "📊 Entropy 图保存完成: /content/drive/MyDrive/Cluster-proj/output/step_wise_pca/img_entropy3/entropy_curve_q_707_sampling2_vs_sampling1.png\n",
            "📊 Entropy 图保存完成: /content/drive/MyDrive/Cluster-proj/output/step_wise_pca/img_entropy3/entropy_curve_q_707_sampling0_vs_sampling1.png\n",
            "📊 Entropy 图保存完成: /content/drive/MyDrive/Cluster-proj/output/step_wise_pca/img_entropy3/entropy_curve_q_709_sampling2_vs_sampling1.png\n",
            "📊 Entropy 图保存完成: /content/drive/MyDrive/Cluster-proj/output/step_wise_pca/img_entropy3/entropy_curve_q_709_sampling0_vs_sampling1.png\n",
            "📊 Entropy 图保存完成: /content/drive/MyDrive/Cluster-proj/output/step_wise_pca/img_entropy3/entropy_curve_q_710_sampling1_vs_sampling2.png\n",
            "📊 Entropy 图保存完成: /content/drive/MyDrive/Cluster-proj/output/step_wise_pca/img_entropy3/entropy_curve_q_710_sampling1_vs_sampling0.png\n",
            "📊 Entropy 图保存完成: /content/drive/MyDrive/Cluster-proj/output/step_wise_pca/img_entropy3/entropy_curve_q_711_sampling0_vs_sampling2.png\n",
            "📊 Entropy 图保存完成: /content/drive/MyDrive/Cluster-proj/output/step_wise_pca/img_entropy3/entropy_curve_q_711_sampling0_vs_sampling1.png\n",
            "📊 Entropy 图保存完成: /content/drive/MyDrive/Cluster-proj/output/step_wise_pca/img_entropy3/entropy_curve_q_712_sampling1_vs_sampling2.png\n",
            "📊 Entropy 图保存完成: /content/drive/MyDrive/Cluster-proj/output/step_wise_pca/img_entropy3/entropy_curve_q_712_sampling0_vs_sampling2.png\n",
            "📊 Entropy 图保存完成: /content/drive/MyDrive/Cluster-proj/output/step_wise_pca/img_entropy3/entropy_curve_q_714_sampling1_vs_sampling2.png\n",
            "📊 Entropy 图保存完成: /content/drive/MyDrive/Cluster-proj/output/step_wise_pca/img_entropy3/entropy_curve_q_714_sampling0_vs_sampling2.png\n",
            "📊 Entropy 图保存完成: /content/drive/MyDrive/Cluster-proj/output/step_wise_pca/img_entropy3/entropy_curve_q_715_sampling1_vs_sampling2.png\n",
            "📊 Entropy 图保存完成: /content/drive/MyDrive/Cluster-proj/output/step_wise_pca/img_entropy3/entropy_curve_q_715_sampling1_vs_sampling0.png\n",
            "📊 Entropy 图保存完成: /content/drive/MyDrive/Cluster-proj/output/step_wise_pca/img_entropy3/entropy_curve_q_717_sampling1_vs_sampling2.png\n",
            "📊 Entropy 图保存完成: /content/drive/MyDrive/Cluster-proj/output/step_wise_pca/img_entropy3/entropy_curve_q_717_sampling1_vs_sampling0.png\n",
            "📊 Entropy 图保存完成: /content/drive/MyDrive/Cluster-proj/output/step_wise_pca/img_entropy3/entropy_curve_q_718_sampling2_vs_sampling1.png\n",
            "📊 Entropy 图保存完成: /content/drive/MyDrive/Cluster-proj/output/step_wise_pca/img_entropy3/entropy_curve_q_718_sampling2_vs_sampling0.png\n",
            "📊 Entropy 图保存完成: /content/drive/MyDrive/Cluster-proj/output/step_wise_pca/img_entropy3/entropy_curve_q_720_sampling1_vs_sampling2.png\n",
            "📊 Entropy 图保存完成: /content/drive/MyDrive/Cluster-proj/output/step_wise_pca/img_entropy3/entropy_curve_q_720_sampling1_vs_sampling0.png\n",
            "📊 Entropy 图保存完成: /content/drive/MyDrive/Cluster-proj/output/step_wise_pca/img_entropy3/entropy_curve_q_721_sampling2_vs_sampling1.png\n",
            "📊 Entropy 图保存完成: /content/drive/MyDrive/Cluster-proj/output/step_wise_pca/img_entropy3/entropy_curve_q_721_sampling2_vs_sampling0.png\n",
            "📊 Entropy 图保存完成: /content/drive/MyDrive/Cluster-proj/output/step_wise_pca/img_entropy3/entropy_curve_q_723_sampling2_vs_sampling1.png\n",
            "📊 Entropy 图保存完成: /content/drive/MyDrive/Cluster-proj/output/step_wise_pca/img_entropy3/entropy_curve_q_723_sampling2_vs_sampling0.png\n",
            "📊 Entropy 图保存完成: /content/drive/MyDrive/Cluster-proj/output/step_wise_pca/img_entropy3/entropy_curve_q_724_sampling2_vs_sampling1.png\n",
            "📊 Entropy 图保存完成: /content/drive/MyDrive/Cluster-proj/output/step_wise_pca/img_entropy3/entropy_curve_q_724_sampling0_vs_sampling1.png\n",
            "📊 Entropy 图保存完成: /content/drive/MyDrive/Cluster-proj/output/step_wise_pca/img_entropy3/entropy_curve_q_727_sampling1_vs_sampling2.png\n",
            "📊 Entropy 图保存完成: /content/drive/MyDrive/Cluster-proj/output/step_wise_pca/img_entropy3/entropy_curve_q_727_sampling0_vs_sampling2.png\n",
            "📊 Entropy 图保存完成: /content/drive/MyDrive/Cluster-proj/output/step_wise_pca/img_entropy3/entropy_curve_q_730_sampling2_vs_sampling1.png\n",
            "📊 Entropy 图保存完成: /content/drive/MyDrive/Cluster-proj/output/step_wise_pca/img_entropy3/entropy_curve_q_730_sampling2_vs_sampling0.png\n"
          ]
        }
      ]
    },
    {
      "cell_type": "code",
      "source": [],
      "metadata": {
        "id": "CTRV-FrC0RIe"
      },
      "execution_count": null,
      "outputs": []
    }
  ]
}